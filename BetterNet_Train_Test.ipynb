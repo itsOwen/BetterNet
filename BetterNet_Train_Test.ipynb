{
  "cells": [
    {
      "cell_type": "code",
      "execution_count": null,
      "metadata": {
        "id": "9SJvLM3WYh0a"
      },
      "outputs": [],
      "source": [
        "from google.colab import drive\n",
        "drive.mount('/content/drive')\n",
        "\n",
        "%cd /content/drive/MyDrive/BetterNet/"
      ]
    },
    {
      "cell_type": "code",
      "execution_count": null,
      "metadata": {
        "id": "cco7gqBZlIbt"
      },
      "outputs": [],
      "source": [
        "!python train.py --batch_size 8 --num_epochs 100"
      ]
    },
    {
      "cell_type": "code",
      "execution_count": null,
      "metadata": {
        "id": "M2DdqnUQ6Kv_"
      },
      "outputs": [],
      "source": [
        "!python test.py --dataset Kvasir-SEG"
      ]
    },
    {
      "cell_type": "code",
      "source": [
        "!python cal_flops.py"
      ],
      "metadata": {
        "id": "Dg72fUquh93L"
      },
      "execution_count": null,
      "outputs": []
    },
    {
      "cell_type": "markdown",
      "source": [
        "## Split files and save in train and val.txt"
      ],
      "metadata": {
        "id": "sSZISHfD-iZb"
      }
    },
    {
      "cell_type": "code",
      "execution_count": null,
      "metadata": {
        "colab": {
          "base_uri": "https://localhost:8080/"
        },
        "id": "HCAU7ncGMKuO",
        "outputId": "9b0c77eb-4553-4db0-e451-7f3b3675abcb"
      },
      "outputs": [
        {
          "output_type": "stream",
          "name": "stdout",
          "text": [
            "Train file names have been saved to: train.txt\n",
            "Validation file names have been saved to: val.txt\n"
          ]
        }
      ],
      "source": [
        "import os\n",
        "import random\n",
        "\n",
        "def get_file_names(folder_path):\n",
        "    file_names = []\n",
        "    for file_name in os.listdir(folder_path):\n",
        "        if os.path.isfile(os.path.join(folder_path, file_name)):\n",
        "            file_names.append(os.path.splitext(file_name)[0])\n",
        "    return file_names\n",
        "\n",
        "file_names = get_file_names(\".\")\n",
        "\n",
        "random.shuffle(file_names)\n",
        "\n",
        "split_index = int(0.9 * len(file_names))\n",
        "train_file_names = file_names[:split_index]\n",
        "val_file_names = file_names[split_index:]\n",
        "\n",
        "train_file = \"train.txt\"\n",
        "with open(train_file, \"w\") as f:\n",
        "    for file_name in train_file_names:\n",
        "        f.write(file_name + \"\\n\")\n",
        "\n",
        "print(\"Train file names have been saved to:\", train_file)\n",
        "\n",
        "val_file = \"val.txt\"\n",
        "with open(val_file, \"w\") as f:\n",
        "    for file_name in val_file_names:\n",
        "        f.write(file_name + \"\\n\")\n",
        "\n",
        "print(\"Validation file names have been saved to:\", val_file)\n"
      ]
    },
    {
      "cell_type": "code",
      "execution_count": null,
      "metadata": {
        "id": "LAHqci1VOaGr"
      },
      "outputs": [],
      "source": []
    }
  ],
  "metadata": {
    "accelerator": "GPU",
    "colab": {
      "provenance": [],
      "gpuType": "T4"
    },
    "kernelspec": {
      "display_name": "Python 3",
      "name": "python3"
    },
    "language_info": {
      "name": "python"
    }
  },
  "nbformat": 4,
  "nbformat_minor": 0
}